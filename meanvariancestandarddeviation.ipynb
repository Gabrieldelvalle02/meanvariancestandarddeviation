{
 "cells": [
  {
   "cell_type": "code",
   "execution_count": 55,
   "metadata": {},
   "outputs": [
    {
     "name": "stdout",
     "output_type": "stream",
     "text": [
      "{'mean': [[3.0, 4.0, 5.0], [1.0, 4.0, 7.0], 4.0], 'variance': [[6.0, 6.0, 6.0], [0.6666666666666666, 0.6666666666666666, 0.6666666666666666], 6.666666666666667], 'standarddeviation': [[2.449489742783178, 2.449489742783178, 2.449489742783178], [0.816496580927726, 0.816496580927726, 0.816496580927726], 2.581988897471611], 'max': [[6, 7, 8], [2, 5, 8], 8], 'min': [[0, 1, 2], [0, 3, 6], 0], 'sum': [[9, 12, 15], [3, 12, 21], 36]}\n"
     ]
    }
   ],
   "source": [
    "\n",
    "import numpy as np\n",
    "import statistics as st \n",
    "\n",
    "def calculate(list):\n",
    "    \n",
    "    x = np.array(list)\n",
    "    arr = x.reshape(-1, 3)\n",
    "    if arr.shape[1] != 3:\n",
    "        raise ValueError('No se pudo realizar el reshape')\n",
    "    mean1 = np.mean(arr,axis=0)\n",
    "    mean2 = np.mean(arr,axis=1)\n",
    "    mean3 = np.mean(arr)\n",
    "\n",
    "    var1 = np.var(arr,axis=0)\n",
    "    var2 = np.var(arr,axis=1)\n",
    "    var3 = np.var(arr)\n",
    "\n",
    "    standarddeviation1 = np.std(arr,axis=0)\n",
    "    standarddeviation2 = np.std(arr,axis=1)\n",
    "    standarddeviation3 = np.std(arr)\n",
    "\n",
    "    max1 = np.max(arr,axis=0)\n",
    "    max2 = np.max(arr,axis=1)\n",
    "    max3 = np.max(arr)\n",
    "\n",
    "    min1 = np.min(arr,axis=0)\n",
    "    min2 = np.min(arr,axis=1)\n",
    "    min3 = np.min(arr)\n",
    "\n",
    "    sum1 = np.sum(arr,axis=0)\n",
    "    sum2 = np.sum(arr,axis=1)\n",
    "    sum3 = np.sum(arr)\n",
    "\n",
    "    calculations = {'mean':[mean1.tolist(), mean2.tolist(), mean3.tolist()],\n",
    "                    'variance':[var1.tolist(), var2.tolist(), var3.tolist()],\n",
    "                    'standarddeviation':[standarddeviation1.tolist(), standarddeviation2.tolist(), standarddeviation3.tolist()],\n",
    "                    'max':[max1.tolist(), max2.tolist(), max3.tolist()],\n",
    "                    'min':[min1.tolist(), min2.tolist(), min3.tolist()],\n",
    "                    'sum':[sum1.tolist(), sum2.tolist(), sum3.tolist()],\n",
    "}\n",
    "    return calculations \n",
    "z = [0,1,2,3,4,5,6,7,8],\n",
    "print (calculate(z))  "
   ]
  },
  {
   "cell_type": "code",
   "execution_count": null,
   "metadata": {},
   "outputs": [],
   "source": []
  },
  {
   "cell_type": "code",
   "execution_count": null,
   "metadata": {},
   "outputs": [],
   "source": []
  }
 ],
 "metadata": {
  "kernelspec": {
   "display_name": "meanvariancestandarddeviation",
   "language": "python",
   "name": "python3"
  },
  "language_info": {
   "codemirror_mode": {
    "name": "ipython",
    "version": 3
   },
   "file_extension": ".py",
   "mimetype": "text/x-python",
   "name": "python",
   "nbconvert_exporter": "python",
   "pygments_lexer": "ipython3",
   "version": "3.12.6"
  }
 },
 "nbformat": 4,
 "nbformat_minor": 2
}
